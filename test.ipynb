{
 "cells": [
  {
   "cell_type": "code",
   "execution_count": 1,
   "metadata": {},
   "outputs": [
    {
     "name": "stdout",
     "output_type": "stream",
     "text": [
      "Package              Version\n",
      "-------------------- -------\n",
      "asttokens            2.0.5\n",
      "backcall             0.2.0\n",
      "debugpy              1.6.2\n",
      "decorator            5.1.1\n",
      "entrypoints          0.4\n",
      "executing            0.9.1\n",
      "ipykernel            6.15.1\n",
      "ipython              8.4.0\n",
      "jedi                 0.18.1\n",
      "jupyter-client       7.3.4\n",
      "jupyter-core         4.11.1\n",
      "matplotlib-inline    0.1.3\n",
      "nest-asyncio         1.5.5\n",
      "ocr-nanonets-wrapper 0.3\n",
      "packaging            21.3\n",
      "parso                0.8.3\n",
      "pexpect              4.8.0\n",
      "pickleshare          0.7.5\n",
      "pip                  22.2.1\n",
      "prompt-toolkit       3.0.30\n",
      "psutil               5.9.1\n",
      "ptyprocess           0.7.0\n",
      "pure-eval            0.2.2\n",
      "Pygments             2.12.0\n",
      "pyparsing            3.0.9\n",
      "python-dateutil      2.8.2\n",
      "pyzmq                23.2.0\n",
      "setuptools           56.0.0\n",
      "six                  1.16.0\n",
      "stack-data           0.3.0\n",
      "tornado              6.2\n",
      "traitlets            5.3.0\n",
      "wcwidth              0.2.5\n"
     ]
    }
   ],
   "source": [
    "!pip list"
   ]
  },
  {
   "cell_type": "code",
   "execution_count": 1,
   "metadata": {},
   "outputs": [
    {
     "ename": "ModuleNotFoundError",
     "evalue": "No module named 'numpy'",
     "output_type": "error",
     "traceback": [
      "\u001b[0;31m---------------------------------------------------------------------------\u001b[0m",
      "\u001b[0;31mModuleNotFoundError\u001b[0m                       Traceback (most recent call last)",
      "\u001b[1;32m/home/arkwith/Dev/ocr-nanonets/test.ipynb Cell 2\u001b[0m in \u001b[0;36m<cell line: 1>\u001b[0;34m()\u001b[0m\n\u001b[0;32m----> <a href='vscode-notebook-cell://wsl%2Bubuntu-22.04/home/arkwith/Dev/ocr-nanonets/test.ipynb#ch0000001vscode-remote?line=0'>1</a>\u001b[0m \u001b[39mfrom\u001b[39;00m \u001b[39mnanonets\u001b[39;00m \u001b[39mimport\u001b[39;00m NANONETSOCR\n\u001b[1;32m      <a href='vscode-notebook-cell://wsl%2Bubuntu-22.04/home/arkwith/Dev/ocr-nanonets/test.ipynb#ch0000001vscode-remote?line=1'>2</a>\u001b[0m nanonets \u001b[39m=\u001b[39m NANONETSOCR()\n",
      "File \u001b[0;32m~/Dev/ocr-nanonets/nanonets/__init__.py:1\u001b[0m, in \u001b[0;36m<module>\u001b[0;34m\u001b[0m\n\u001b[0;32m----> 1\u001b[0m \u001b[39mfrom\u001b[39;00m \u001b[39mnanonets\u001b[39;00m\u001b[39m.\u001b[39;00m\u001b[39mocr\u001b[39;00m \u001b[39mimport\u001b[39;00m NANONETSOCR\n",
      "File \u001b[0;32m~/Dev/ocr-nanonets/nanonets/ocr.py:8\u001b[0m, in \u001b[0;36m<module>\u001b[0;34m\u001b[0m\n\u001b[1;32m      6\u001b[0m \u001b[39mimport\u001b[39;00m \u001b[39msys\u001b[39;00m\n\u001b[1;32m      7\u001b[0m \u001b[39mimport\u001b[39;00m \u001b[39mwarnings\u001b[39;00m\n\u001b[0;32m----> 8\u001b[0m \u001b[39mimport\u001b[39;00m \u001b[39mnumpy\u001b[39;00m \u001b[39mas\u001b[39;00m \u001b[39mnp\u001b[39;00m\n\u001b[1;32m      9\u001b[0m \u001b[39mimport\u001b[39;00m \u001b[39mpandas\u001b[39;00m \u001b[39mas\u001b[39;00m \u001b[39mpd\u001b[39;00m\n\u001b[1;32m     10\u001b[0m \u001b[39mimport\u001b[39;00m \u001b[39murllib\u001b[39;00m\u001b[39m.\u001b[39;00m\u001b[39mrequest\u001b[39;00m\n",
      "\u001b[0;31mModuleNotFoundError\u001b[0m: No module named 'numpy'"
     ]
    }
   ],
   "source": [
    "from nanonets import NANONETSOCR\n",
    "nanonets = NANONETSOCR()"
   ]
  }
 ],
 "metadata": {
  "kernelspec": {
   "display_name": "Python 3.8.13 ('venv': venv)",
   "language": "python",
   "name": "python3"
  },
  "language_info": {
   "codemirror_mode": {
    "name": "ipython",
    "version": 3
   },
   "file_extension": ".py",
   "mimetype": "text/x-python",
   "name": "python",
   "nbconvert_exporter": "python",
   "pygments_lexer": "ipython3",
   "version": "3.8.13"
  },
  "orig_nbformat": 4,
  "vscode": {
   "interpreter": {
    "hash": "b3c9f5f38cf48a252e4f2fca0a522144472da9d6db9758f572107b1d8452bc79"
   }
  }
 },
 "nbformat": 4,
 "nbformat_minor": 2
}
