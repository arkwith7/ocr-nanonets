{
 "cells": [
  {
   "cell_type": "code",
   "execution_count": 2,
   "metadata": {},
   "outputs": [],
   "source": [
    "from nanonets import NANONETSOCR\n",
    "nanonets = NANONETSOCR()"
   ]
  },
  {
   "cell_type": "code",
   "execution_count": 3,
   "metadata": {},
   "outputs": [],
   "source": [
    "nanonets.set_token('TlzstaxLRtN52c7cohHtKOGQ1PksEP_D')"
   ]
  },
  {
   "cell_type": "code",
   "execution_count": 11,
   "metadata": {},
   "outputs": [
    {
     "data": {
      "text/plain": [
       "\"Ios rel Ieuohen X IIV: OL Y 1 I Y | I | IPY 1O I 80 D 20 E 6102 = Y O I A Y O HY a 1Y C 1 Y yonunueyoas'MM 4 a M S6SE-tL94-040 wooaneu@080ZSDA I Jyouueyoas@ueyoas ew-3 xey 6V68- L9E-4050 0l 6768-620S-0L0 a|!qoW OHEY 8)09199L ZIAL8 YHY 0 U WHoI * WHola19Y D 3 1Y C I D 1 Y I = 1Y A ONT I I 7 I D I I6 | E 1 I Y D HL 1 Y J O 1 10 Y : 10 IK 919 91 C 482 1 Y t0 | IF I I C I IY I I Y a 90 5 60 9102 | = 1 5 C A | 01 s 10 EL61 I 1 Y IY HO Iy 9 1200-6E-792 I I Y IFYHC | C a S 8 Y o HY D = 5 1 TI b = I in \""
      ]
     },
     "execution_count": 11,
     "metadata": {},
     "output_type": "execute_result"
    }
   ],
   "source": [
    "text = nanonets.image_to_string('1992cfb6ac4e5019dccd707ab984b7a1.jpg', formatting = 'none', space_size = 11, line_height = 60, line_threshold = 'low')\n",
    "text"
   ]
  }
 ],
 "metadata": {
  "kernelspec": {
   "display_name": "Python 3.8.13 ('venv': venv)",
   "language": "python",
   "name": "python3"
  },
  "language_info": {
   "codemirror_mode": {
    "name": "ipython",
    "version": 3
   },
   "file_extension": ".py",
   "mimetype": "text/x-python",
   "name": "python",
   "nbconvert_exporter": "python",
   "pygments_lexer": "ipython3",
   "version": "3.8.13"
  },
  "orig_nbformat": 4,
  "vscode": {
   "interpreter": {
    "hash": "b3c9f5f38cf48a252e4f2fca0a522144472da9d6db9758f572107b1d8452bc79"
   }
  }
 },
 "nbformat": 4,
 "nbformat_minor": 2
}
